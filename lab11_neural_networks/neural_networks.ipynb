{
 "cells": [
  {
   "cell_type": "markdown",
   "metadata": {
    "id": "Cbwc6X2EEATN"
   },
   "source": [
    "# Neural Networks\n",
    "Roksana Cieśla"
   ]
  },
  {
   "cell_type": "code",
   "execution_count": 5,
   "metadata": {},
   "outputs": [],
   "source": [
    "import numpy as np\n",
    "from keras.datasets import mnist\n",
    "import keras\n",
    "from keras import layers\n",
    "from sklearn.metrics import classification_report, confusion_matrix"
   ]
  },
  {
   "cell_type": "markdown",
   "metadata": {
    "id": "Cbwc6X2EEATN"
   },
   "source": [
    "### Wczytanie i konwersja danych"
   ]
  },
  {
   "cell_type": "code",
   "execution_count": 9,
   "metadata": {},
   "outputs": [],
   "source": [
    "training_set, test_set = mnist.load_data()"
   ]
  },
  {
   "cell_type": "code",
   "execution_count": 10,
   "metadata": {},
   "outputs": [],
   "source": [
    "X_train, y_train = training_set\n",
    "X_test, y_test = test_set"
   ]
  },
  {
   "cell_type": "code",
   "execution_count": 11,
   "metadata": {},
   "outputs": [
    {
     "name": "stdout",
     "output_type": "stream",
     "text": [
      "(60000, 28, 28)\n"
     ]
    }
   ],
   "source": [
    "print(X_train.shape)"
   ]
  },
  {
   "cell_type": "code",
   "execution_count": 12,
   "metadata": {},
   "outputs": [],
   "source": [
    "X_train = np.expand_dims(X_train, -1)\n",
    "X_test = np.expand_dims(X_test, -1)"
   ]
  },
  {
   "cell_type": "code",
   "execution_count": 13,
   "metadata": {},
   "outputs": [
    {
     "name": "stdout",
     "output_type": "stream",
     "text": [
      "(60000, 28, 28, 1)\n"
     ]
    }
   ],
   "source": [
    "print(X_train.shape)"
   ]
  },
  {
   "cell_type": "code",
   "execution_count": 15,
   "metadata": {},
   "outputs": [],
   "source": [
    "X_train = X_train.astype(float) / 255.0  \n",
    "X_test = X_test.astype(float) / 255.0"
   ]
  },
  {
   "cell_type": "markdown",
   "metadata": {},
   "source": [
    "### Przygotowanie eksperymentu"
   ]
  },
  {
   "cell_type": "code",
   "execution_count": 16,
   "metadata": {},
   "outputs": [],
   "source": [
    "num_classes = 10\n",
    "input_shape = (28, 28, 1)\n",
    "batch_size = 128\n",
    "epochs = 30"
   ]
  },
  {
   "cell_type": "code",
   "execution_count": 17,
   "metadata": {},
   "outputs": [],
   "source": [
    "model = keras.Sequential(\n",
    "        [\n",
    "            keras.Input(shape=input_shape),\n",
    "            keras.layers.Flatten(),\n",
    "            layers.Dense(num_classes, activation=\"softmax\")\n",
    "        ]\n",
    "    )"
   ]
  },
  {
   "cell_type": "code",
   "execution_count": 18,
   "metadata": {},
   "outputs": [
    {
     "name": "stdout",
     "output_type": "stream",
     "text": [
      "Model: \"sequential\"\n",
      "_________________________________________________________________\n",
      " Layer (type)                Output Shape              Param #   \n",
      "=================================================================\n",
      " flatten (Flatten)           (None, 784)               0         \n",
      "                                                                 \n",
      " dense (Dense)               (None, 10)                7850      \n",
      "                                                                 \n",
      "=================================================================\n",
      "Total params: 7850 (30.66 KB)\n",
      "Trainable params: 7850 (30.66 KB)\n",
      "Non-trainable params: 0 (0.00 Byte)\n",
      "_________________________________________________________________\n"
     ]
    }
   ],
   "source": [
    "model.summary()"
   ]
  },
  {
   "cell_type": "code",
   "execution_count": 19,
   "metadata": {
    "id": "3oPRoUgL9GOQ"
   },
   "outputs": [],
   "source": [
    "model.compile(loss=\"sparse_categorical_crossentropy\", optimizer=\"adam\", metrics=[\"accuracy\"])"
   ]
  },
  {
   "cell_type": "markdown",
   "metadata": {},
   "source": [
    "### Uczenie modelu"
   ]
  },
  {
   "cell_type": "code",
   "execution_count": 20,
   "metadata": {},
   "outputs": [
    {
     "name": "stdout",
     "output_type": "stream",
     "text": [
      "Epoch 1/30\n",
      "375/375 [==============================] - 1s 1ms/step - loss: 0.7521 - accuracy: 0.8177 - val_loss: 0.4084 - val_accuracy: 0.8978\n",
      "Epoch 2/30\n",
      "375/375 [==============================] - 0s 802us/step - loss: 0.3892 - accuracy: 0.8973 - val_loss: 0.3341 - val_accuracy: 0.9113\n",
      "Epoch 3/30\n",
      "375/375 [==============================] - 0s 793us/step - loss: 0.3380 - accuracy: 0.9076 - val_loss: 0.3073 - val_accuracy: 0.9152\n",
      "Epoch 4/30\n",
      "375/375 [==============================] - 0s 778us/step - loss: 0.3143 - accuracy: 0.9133 - val_loss: 0.2933 - val_accuracy: 0.9185\n",
      "Epoch 5/30\n",
      "375/375 [==============================] - 0s 792us/step - loss: 0.3001 - accuracy: 0.9164 - val_loss: 0.2846 - val_accuracy: 0.9206\n",
      "Epoch 6/30\n",
      "375/375 [==============================] - 0s 797us/step - loss: 0.2907 - accuracy: 0.9196 - val_loss: 0.2802 - val_accuracy: 0.9224\n",
      "Epoch 7/30\n",
      "375/375 [==============================] - 0s 784us/step - loss: 0.2834 - accuracy: 0.9208 - val_loss: 0.2749 - val_accuracy: 0.9239\n",
      "Epoch 8/30\n",
      "375/375 [==============================] - 0s 777us/step - loss: 0.2780 - accuracy: 0.9218 - val_loss: 0.2707 - val_accuracy: 0.9252\n",
      "Epoch 9/30\n",
      "375/375 [==============================] - 0s 788us/step - loss: 0.2736 - accuracy: 0.9228 - val_loss: 0.2697 - val_accuracy: 0.9254\n",
      "Epoch 10/30\n",
      "375/375 [==============================] - 0s 788us/step - loss: 0.2698 - accuracy: 0.9251 - val_loss: 0.2671 - val_accuracy: 0.9264\n",
      "Epoch 11/30\n",
      "375/375 [==============================] - 0s 786us/step - loss: 0.2668 - accuracy: 0.9252 - val_loss: 0.2665 - val_accuracy: 0.9272\n",
      "Epoch 12/30\n",
      "375/375 [==============================] - 0s 783us/step - loss: 0.2640 - accuracy: 0.9266 - val_loss: 0.2628 - val_accuracy: 0.9292\n",
      "Epoch 13/30\n",
      "375/375 [==============================] - 0s 790us/step - loss: 0.2616 - accuracy: 0.9267 - val_loss: 0.2617 - val_accuracy: 0.9290\n",
      "Epoch 14/30\n",
      "375/375 [==============================] - 0s 808us/step - loss: 0.2594 - accuracy: 0.9273 - val_loss: 0.2630 - val_accuracy: 0.9277\n",
      "Epoch 15/30\n",
      "375/375 [==============================] - 0s 797us/step - loss: 0.2578 - accuracy: 0.9281 - val_loss: 0.2619 - val_accuracy: 0.9280\n",
      "Epoch 16/30\n",
      "375/375 [==============================] - 0s 793us/step - loss: 0.2558 - accuracy: 0.9287 - val_loss: 0.2605 - val_accuracy: 0.9287\n",
      "Epoch 17/30\n",
      "375/375 [==============================] - 0s 782us/step - loss: 0.2547 - accuracy: 0.9289 - val_loss: 0.2593 - val_accuracy: 0.9290\n",
      "Epoch 18/30\n",
      "375/375 [==============================] - 0s 797us/step - loss: 0.2528 - accuracy: 0.9295 - val_loss: 0.2613 - val_accuracy: 0.9294\n",
      "Epoch 19/30\n",
      "375/375 [==============================] - 0s 801us/step - loss: 0.2516 - accuracy: 0.9293 - val_loss: 0.2598 - val_accuracy: 0.9302\n",
      "Epoch 20/30\n",
      "375/375 [==============================] - 0s 799us/step - loss: 0.2506 - accuracy: 0.9304 - val_loss: 0.2599 - val_accuracy: 0.9295\n",
      "Epoch 21/30\n",
      "375/375 [==============================] - 0s 850us/step - loss: 0.2494 - accuracy: 0.9305 - val_loss: 0.2591 - val_accuracy: 0.9302\n",
      "Epoch 22/30\n",
      "375/375 [==============================] - 0s 807us/step - loss: 0.2481 - accuracy: 0.9309 - val_loss: 0.2627 - val_accuracy: 0.9288\n",
      "Epoch 23/30\n",
      "375/375 [==============================] - 0s 800us/step - loss: 0.2475 - accuracy: 0.9307 - val_loss: 0.2589 - val_accuracy: 0.9297\n",
      "Epoch 24/30\n",
      "375/375 [==============================] - 0s 796us/step - loss: 0.2460 - accuracy: 0.9315 - val_loss: 0.2593 - val_accuracy: 0.9297\n",
      "Epoch 25/30\n",
      "375/375 [==============================] - 0s 801us/step - loss: 0.2453 - accuracy: 0.9311 - val_loss: 0.2595 - val_accuracy: 0.9291\n",
      "Epoch 26/30\n",
      "375/375 [==============================] - 0s 789us/step - loss: 0.2447 - accuracy: 0.9317 - val_loss: 0.2601 - val_accuracy: 0.9303\n",
      "Epoch 27/30\n",
      "375/375 [==============================] - 0s 872us/step - loss: 0.2434 - accuracy: 0.9323 - val_loss: 0.2578 - val_accuracy: 0.9317\n",
      "Epoch 28/30\n",
      "375/375 [==============================] - 0s 820us/step - loss: 0.2428 - accuracy: 0.9317 - val_loss: 0.2599 - val_accuracy: 0.9294\n",
      "Epoch 29/30\n",
      "375/375 [==============================] - 0s 841us/step - loss: 0.2422 - accuracy: 0.9329 - val_loss: 0.2578 - val_accuracy: 0.9313\n",
      "Epoch 30/30\n",
      "375/375 [==============================] - 0s 843us/step - loss: 0.2416 - accuracy: 0.9329 - val_loss: 0.2579 - val_accuracy: 0.9312\n"
     ]
    },
    {
     "data": {
      "text/plain": [
       "<keras.src.callbacks.History at 0x2dd241070>"
      ]
     },
     "execution_count": 20,
     "metadata": {},
     "output_type": "execute_result"
    }
   ],
   "source": [
    "model.fit(X_train, y_train, batch_size=batch_size, epochs=epochs, validation_split=0.2)"
   ]
  },
  {
   "cell_type": "markdown",
   "metadata": {},
   "source": [
    "### Ocena modelu"
   ]
  },
  {
   "cell_type": "code",
   "execution_count": 21,
   "metadata": {},
   "outputs": [],
   "source": [
    "from sklearn.metrics import classification_report, confusion_matrix"
   ]
  },
  {
   "cell_type": "code",
   "execution_count": 22,
   "metadata": {},
   "outputs": [
    {
     "name": "stdout",
     "output_type": "stream",
     "text": [
      "313/313 [==============================] - 0s 381us/step\n"
     ]
    }
   ],
   "source": [
    "y_probab = model.predict(X_test)\n",
    "y_pred = np.argmax(y_probab, axis=1)"
   ]
  },
  {
   "cell_type": "code",
   "execution_count": 23,
   "metadata": {},
   "outputs": [
    {
     "name": "stdout",
     "output_type": "stream",
     "text": [
      "              precision    recall  f1-score   support\n",
      "\n",
      "           0       0.95      0.98      0.97       980\n",
      "           1       0.97      0.98      0.98      1135\n",
      "           2       0.93      0.91      0.92      1032\n",
      "           3       0.91      0.91      0.91      1010\n",
      "           4       0.94      0.93      0.94       982\n",
      "           5       0.90      0.88      0.89       892\n",
      "           6       0.95      0.95      0.95       958\n",
      "           7       0.94      0.92      0.93      1028\n",
      "           8       0.88      0.90      0.89       974\n",
      "           9       0.91      0.92      0.91      1009\n",
      "\n",
      "    accuracy                           0.93     10000\n",
      "   macro avg       0.93      0.93      0.93     10000\n",
      "weighted avg       0.93      0.93      0.93     10000\n",
      "\n",
      "[[ 964    0    1    2    0    6    4    2    1    0]\n",
      " [   0 1114    3    3    0    1    3    2    9    0]\n",
      " [   4   10  935   15    6    3   11    8   37    3]\n",
      " [   3    0   19  923    0   24    2   11   22    6]\n",
      " [   1    1    7    1  913    0    8    4   11   36]\n",
      " [   8    2    5   32    7  783   11    7   31    6]\n",
      " [  13    3    9    1    7   14  908    1    2    0]\n",
      " [   1    6   22    7    9    1    0  945    2   35]\n",
      " [   7    5    7   19    8   27    7    8  875   11]\n",
      " [  11    7    1   10   19    8    0   18    5  930]]\n"
     ]
    }
   ],
   "source": [
    "print(classification_report(y_test, y_pred))\n",
    "print(confusion_matrix(y_test, y_pred))"
   ]
  },
  {
   "cell_type": "markdown",
   "metadata": {},
   "source": [
    "### Uczenie modeli nieliniowych"
   ]
  },
  {
   "cell_type": "code",
   "execution_count": 41,
   "metadata": {},
   "outputs": [],
   "source": [
    "training_set, test_set = mnist.load_data()\n",
    "X_train, y_train = training_set\n",
    "X_test, y_test = test_set\n",
    "X_train = np.expand_dims(X_train, -1)\n",
    "X_test = np.expand_dims(X_test, -1)\n",
    "X_train = X_train.astype(int) / 255.0  \n",
    "X_test = X_test.astype(int) / 255.0\n",
    "num_classes = 10\n",
    "input_shape = (28, 28, 1)\n",
    "batch_size = 128\n",
    "epochs = 30"
   ]
  },
  {
   "cell_type": "code",
   "execution_count": 42,
   "metadata": {
    "colab": {
     "base_uri": "https://localhost:8080/",
     "height": 206
    },
    "id": "hiDQAek4_fKC",
    "outputId": "7791c2df-ecfb-47b0-81a1-59ea2f52baaa"
   },
   "outputs": [],
   "source": [
    "model2 = keras.Sequential(\n",
    "        [\n",
    "            keras.Input(shape=input_shape),\n",
    "            keras.layers.Flatten(),\n",
    "            layers.Dense(64, activation=\"tanh\"),\n",
    "            layers.Dense(128, activation=\"tanh\"),\n",
    "            layers.Dense(num_classes, activation=\"softmax\")\n",
    "        ]\n",
    "    )"
   ]
  },
  {
   "cell_type": "code",
   "execution_count": 43,
   "metadata": {
    "colab": {
     "base_uri": "https://localhost:8080/"
    },
    "id": "NF-P9K6U_gwM",
    "outputId": "e5dee292-87c0-4f77-f169-28c6de16c53d"
   },
   "outputs": [
    {
     "name": "stdout",
     "output_type": "stream",
     "text": [
      "Model: \"sequential_5\"\n",
      "_________________________________________________________________\n",
      " Layer (type)                Output Shape              Param #   \n",
      "=================================================================\n",
      " flatten_5 (Flatten)         (None, 784)               0         \n",
      "                                                                 \n",
      " dense_13 (Dense)            (None, 64)                50240     \n",
      "                                                                 \n",
      " dense_14 (Dense)            (None, 128)               8320      \n",
      "                                                                 \n",
      " dense_15 (Dense)            (None, 10)                1290      \n",
      "                                                                 \n",
      "=================================================================\n",
      "Total params: 59850 (233.79 KB)\n",
      "Trainable params: 59850 (233.79 KB)\n",
      "Non-trainable params: 0 (0.00 Byte)\n",
      "_________________________________________________________________\n"
     ]
    }
   ],
   "source": [
    "model2.summary()"
   ]
  },
  {
   "cell_type": "code",
   "execution_count": 44,
   "metadata": {},
   "outputs": [],
   "source": [
    "model2.compile(loss=\"sparse_categorical_crossentropy\", optimizer=\"adam\", metrics=[\"accuracy\"])"
   ]
  },
  {
   "cell_type": "code",
   "execution_count": 45,
   "metadata": {
    "colab": {
     "base_uri": "https://localhost:8080/"
    },
    "id": "IsDZstP4_h8Q",
    "outputId": "ea8ce324-0b43-4215-f674-f710f7141f1c"
   },
   "outputs": [
    {
     "name": "stdout",
     "output_type": "stream",
     "text": [
      "Epoch 1/30\n",
      "375/375 [==============================] - 1s 2ms/step - loss: 0.4134 - accuracy: 0.8820 - val_loss: 0.2276 - val_accuracy: 0.9341\n",
      "Epoch 2/30\n",
      "375/375 [==============================] - 1s 1ms/step - loss: 0.1976 - accuracy: 0.9409 - val_loss: 0.1748 - val_accuracy: 0.9489\n",
      "Epoch 3/30\n",
      "375/375 [==============================] - 1s 1ms/step - loss: 0.1434 - accuracy: 0.9563 - val_loss: 0.1417 - val_accuracy: 0.9591\n",
      "Epoch 4/30\n",
      "375/375 [==============================] - 0s 1ms/step - loss: 0.1103 - accuracy: 0.9677 - val_loss: 0.1241 - val_accuracy: 0.9638\n",
      "Epoch 5/30\n",
      "375/375 [==============================] - 1s 1ms/step - loss: 0.0906 - accuracy: 0.9726 - val_loss: 0.1224 - val_accuracy: 0.9641\n",
      "Epoch 6/30\n",
      "375/375 [==============================] - 1s 1ms/step - loss: 0.0743 - accuracy: 0.9784 - val_loss: 0.1143 - val_accuracy: 0.9659\n",
      "Epoch 7/30\n",
      "375/375 [==============================] - 0s 1ms/step - loss: 0.0606 - accuracy: 0.9827 - val_loss: 0.1123 - val_accuracy: 0.9668\n",
      "Epoch 8/30\n",
      "375/375 [==============================] - 1s 1ms/step - loss: 0.0514 - accuracy: 0.9849 - val_loss: 0.1039 - val_accuracy: 0.9700\n",
      "Epoch 9/30\n",
      "375/375 [==============================] - 1s 1ms/step - loss: 0.0432 - accuracy: 0.9869 - val_loss: 0.1050 - val_accuracy: 0.9721\n",
      "Epoch 10/30\n",
      "375/375 [==============================] - 1s 1ms/step - loss: 0.0364 - accuracy: 0.9892 - val_loss: 0.1041 - val_accuracy: 0.9713\n",
      "Epoch 11/30\n",
      "375/375 [==============================] - 1s 1ms/step - loss: 0.0302 - accuracy: 0.9915 - val_loss: 0.1018 - val_accuracy: 0.9719\n",
      "Epoch 12/30\n",
      "375/375 [==============================] - 1s 1ms/step - loss: 0.0266 - accuracy: 0.9925 - val_loss: 0.1003 - val_accuracy: 0.9722\n",
      "Epoch 13/30\n",
      "375/375 [==============================] - 1s 1ms/step - loss: 0.0203 - accuracy: 0.9947 - val_loss: 0.1035 - val_accuracy: 0.9724\n",
      "Epoch 14/30\n",
      "375/375 [==============================] - 1s 1ms/step - loss: 0.0190 - accuracy: 0.9948 - val_loss: 0.1095 - val_accuracy: 0.9714\n",
      "Epoch 15/30\n",
      "375/375 [==============================] - 1s 1ms/step - loss: 0.0157 - accuracy: 0.9957 - val_loss: 0.1095 - val_accuracy: 0.9705\n",
      "Epoch 16/30\n",
      "375/375 [==============================] - 1s 1ms/step - loss: 0.0118 - accuracy: 0.9970 - val_loss: 0.1211 - val_accuracy: 0.9702\n",
      "Epoch 17/30\n",
      "375/375 [==============================] - 1s 1ms/step - loss: 0.0106 - accuracy: 0.9975 - val_loss: 0.1226 - val_accuracy: 0.9715\n",
      "Epoch 18/30\n",
      "375/375 [==============================] - 1s 1ms/step - loss: 0.0110 - accuracy: 0.9969 - val_loss: 0.1211 - val_accuracy: 0.9703\n",
      "Epoch 19/30\n",
      "375/375 [==============================] - 1s 1ms/step - loss: 0.0106 - accuracy: 0.9970 - val_loss: 0.1281 - val_accuracy: 0.9693\n",
      "Epoch 20/30\n",
      "375/375 [==============================] - 1s 1ms/step - loss: 0.0077 - accuracy: 0.9982 - val_loss: 0.1246 - val_accuracy: 0.9713\n",
      "Epoch 21/30\n",
      "375/375 [==============================] - 1s 1ms/step - loss: 0.0055 - accuracy: 0.9988 - val_loss: 0.1353 - val_accuracy: 0.9707\n",
      "Epoch 22/30\n",
      "375/375 [==============================] - 1s 1ms/step - loss: 0.0082 - accuracy: 0.9977 - val_loss: 0.1538 - val_accuracy: 0.9670\n",
      "Epoch 23/30\n",
      "375/375 [==============================] - 1s 1ms/step - loss: 0.0091 - accuracy: 0.9974 - val_loss: 0.1428 - val_accuracy: 0.9710\n",
      "Epoch 24/30\n",
      "375/375 [==============================] - 1s 1ms/step - loss: 0.0044 - accuracy: 0.9991 - val_loss: 0.1340 - val_accuracy: 0.9721\n",
      "Epoch 25/30\n",
      "375/375 [==============================] - 1s 1ms/step - loss: 0.0020 - accuracy: 0.9999 - val_loss: 0.1317 - val_accuracy: 0.9723\n",
      "Epoch 26/30\n",
      "375/375 [==============================] - 1s 1ms/step - loss: 0.0011 - accuracy: 1.0000 - val_loss: 0.1320 - val_accuracy: 0.9734\n",
      "Epoch 27/30\n",
      "375/375 [==============================] - 1s 1ms/step - loss: 7.9992e-04 - accuracy: 1.0000 - val_loss: 0.1373 - val_accuracy: 0.9718\n",
      "Epoch 28/30\n",
      "375/375 [==============================] - 1s 1ms/step - loss: 9.3890e-04 - accuracy: 0.9999 - val_loss: 0.1411 - val_accuracy: 0.9714\n",
      "Epoch 29/30\n",
      "375/375 [==============================] - 1s 1ms/step - loss: 0.0227 - accuracy: 0.9924 - val_loss: 0.1442 - val_accuracy: 0.9715\n",
      "Epoch 30/30\n",
      "375/375 [==============================] - 1s 1ms/step - loss: 0.0057 - accuracy: 0.9982 - val_loss: 0.1406 - val_accuracy: 0.9717\n"
     ]
    },
    {
     "data": {
      "text/plain": [
       "<keras.src.callbacks.History at 0x2dd89e220>"
      ]
     },
     "execution_count": 45,
     "metadata": {},
     "output_type": "execute_result"
    }
   ],
   "source": [
    "model2.fit(X_train, y_train, batch_size=batch_size, epochs=epochs, validation_split=0.2)"
   ]
  },
  {
   "cell_type": "code",
   "execution_count": 46,
   "metadata": {
    "id": "mQNXtFa__jV-"
   },
   "outputs": [
    {
     "name": "stdout",
     "output_type": "stream",
     "text": [
      "313/313 [==============================] - 0s 482us/step\n"
     ]
    }
   ],
   "source": [
    "y_probab = model2.predict(X_test)\n",
    "y_pred = np.argmax(y_probab, axis=1)"
   ]
  },
  {
   "cell_type": "code",
   "execution_count": 47,
   "metadata": {
    "colab": {
     "base_uri": "https://localhost:8080/",
     "height": 175
    },
    "id": "FzRf8qzI_lxC",
    "outputId": "44ee698b-0a36-469f-c75c-e6eafd7b2572"
   },
   "outputs": [
    {
     "name": "stdout",
     "output_type": "stream",
     "text": [
      "              precision    recall  f1-score   support\n",
      "\n",
      "           0       0.99      0.99      0.99       980\n",
      "           1       0.99      0.99      0.99      1135\n",
      "           2       0.97      0.97      0.97      1032\n",
      "           3       0.95      0.98      0.96      1010\n",
      "           4       0.98      0.97      0.97       982\n",
      "           5       0.98      0.95      0.97       892\n",
      "           6       0.97      0.98      0.98       958\n",
      "           7       0.97      0.97      0.97      1028\n",
      "           8       0.97      0.97      0.97       974\n",
      "           9       0.98      0.96      0.97      1009\n",
      "\n",
      "    accuracy                           0.97     10000\n",
      "   macro avg       0.97      0.97      0.97     10000\n",
      "weighted avg       0.97      0.97      0.97     10000\n",
      "\n",
      "[[ 969    0    2    2    2    0    3    1    1    0]\n",
      " [   0 1125    2    3    0    1    2    1    1    0]\n",
      " [   3    0 1006    4    2    0    3    5    9    0]\n",
      " [   0    0    7  986    1    5    0    4    2    5]\n",
      " [   0    0    1    1  956    2    7    3    2   10]\n",
      " [   5    0    1   18    1  851    7    1    6    2]\n",
      " [   4    3    3    1    2    4  941    0    0    0]\n",
      " [   0    6   11    6    2    0    0  995    2    6]\n",
      " [   0    0    8    9    4    0    3    2  947    1]\n",
      " [   1    2    0    8   10    1    1    9    6  971]]\n"
     ]
    }
   ],
   "source": [
    "print(classification_report(y_test, y_pred))\n",
    "print(confusion_matrix(y_test, y_pred))"
   ]
  },
  {
   "cell_type": "code",
   "execution_count": 48,
   "metadata": {
    "colab": {
     "base_uri": "https://localhost:8080/",
     "height": 206
    },
    "id": "wOTVagjz_m0_",
    "outputId": "114be038-ef0f-4374-e05b-22c0b6b24149"
   },
   "outputs": [],
   "source": [
    "training_set, test_set = mnist.load_data()\n",
    "X_train, y_train = training_set\n",
    "X_test, y_test = test_set\n",
    "X_train = np.expand_dims(X_train, -1)\n",
    "X_test = np.expand_dims(X_test, -1)\n",
    "X_train = X_train.astype(int) / 255.0  \n",
    "X_test = X_test.astype(int) / 255.0\n",
    "num_classes = 10\n",
    "input_shape = (28, 28, 1)\n",
    "batch_size = 128\n",
    "epochs = 30"
   ]
  },
  {
   "cell_type": "code",
   "execution_count": 50,
   "metadata": {
    "colab": {
     "base_uri": "https://localhost:8080/",
     "height": 488
    },
    "id": "pt4_do93_4CA",
    "outputId": "5b00f818-f5bf-46e4-dfaf-b242845ae30d"
   },
   "outputs": [],
   "source": [
    "model3 = keras.Sequential(\n",
    "        [\n",
    "            keras.Input(shape=input_shape),\n",
    "            layers.Conv2D(32, kernel_size=(3, 3), activation=\"relu\"),\n",
    "            layers.MaxPooling2D(pool_size=(2, 2)),\n",
    "            layers.Conv2D(64, kernel_size=(3, 3), activation=\"relu\"),\n",
    "            layers.MaxPooling2D(pool_size=(2, 2)),\n",
    "            layers.Flatten(),\n",
    "            layers.Dropout(0.5),\n",
    "            layers.Dense(num_classes, activation=\"softmax\"),\n",
    "        ]\n",
    "    )"
   ]
  },
  {
   "cell_type": "code",
   "execution_count": 51,
   "metadata": {
    "colab": {
     "base_uri": "https://localhost:8080/"
    },
    "id": "xRHiWC7tB2E6",
    "outputId": "f581ec5c-2512-4f17-e862-9d83e3791c14"
   },
   "outputs": [
    {
     "name": "stdout",
     "output_type": "stream",
     "text": [
      "Model: \"sequential_7\"\n",
      "_________________________________________________________________\n",
      " Layer (type)                Output Shape              Param #   \n",
      "=================================================================\n",
      " conv2d_2 (Conv2D)           (None, 26, 26, 32)        320       \n",
      "                                                                 \n",
      " max_pooling2d_2 (MaxPoolin  (None, 13, 13, 32)        0         \n",
      " g2D)                                                            \n",
      "                                                                 \n",
      " conv2d_3 (Conv2D)           (None, 11, 11, 64)        18496     \n",
      "                                                                 \n",
      " max_pooling2d_3 (MaxPoolin  (None, 5, 5, 64)          0         \n",
      " g2D)                                                            \n",
      "                                                                 \n",
      " flatten_7 (Flatten)         (None, 1600)              0         \n",
      "                                                                 \n",
      " dropout_1 (Dropout)         (None, 1600)              0         \n",
      "                                                                 \n",
      " dense_17 (Dense)            (None, 10)                16010     \n",
      "                                                                 \n",
      "=================================================================\n",
      "Total params: 34826 (136.04 KB)\n",
      "Trainable params: 34826 (136.04 KB)\n",
      "Non-trainable params: 0 (0.00 Byte)\n",
      "_________________________________________________________________\n"
     ]
    }
   ],
   "source": [
    "model3.summary()"
   ]
  },
  {
   "cell_type": "code",
   "execution_count": 52,
   "metadata": {
    "colab": {
     "base_uri": "https://localhost:8080/"
    },
    "id": "g641nV46CxHt",
    "outputId": "c2bafb3c-85fb-46d0-855b-7d968ed572f1"
   },
   "outputs": [],
   "source": [
    "model3.compile(loss=\"sparse_categorical_crossentropy\", optimizer=\"adam\", metrics=[\"accuracy\"])"
   ]
  },
  {
   "cell_type": "code",
   "execution_count": 53,
   "metadata": {
    "colab": {
     "base_uri": "https://localhost:8080/",
     "height": 421
    },
    "id": "4Ny1U33MCynB",
    "outputId": "2191109a-08f5-48c2-dbfd-246f7bffe1e2"
   },
   "outputs": [
    {
     "name": "stdout",
     "output_type": "stream",
     "text": [
      "Epoch 1/30\n",
      "375/375 [==============================] - 12s 31ms/step - loss: 0.3970 - accuracy: 0.8795 - val_loss: 0.1119 - val_accuracy: 0.9681\n",
      "Epoch 2/30\n",
      "375/375 [==============================] - 12s 32ms/step - loss: 0.1199 - accuracy: 0.9629 - val_loss: 0.0719 - val_accuracy: 0.9798\n",
      "Epoch 3/30\n",
      "375/375 [==============================] - 13s 34ms/step - loss: 0.0883 - accuracy: 0.9717 - val_loss: 0.0569 - val_accuracy: 0.9835\n",
      "Epoch 4/30\n",
      "375/375 [==============================] - 13s 33ms/step - loss: 0.0736 - accuracy: 0.9772 - val_loss: 0.0517 - val_accuracy: 0.9841\n",
      "Epoch 5/30\n",
      "375/375 [==============================] - 12s 31ms/step - loss: 0.0631 - accuracy: 0.9806 - val_loss: 0.0502 - val_accuracy: 0.9862\n",
      "Epoch 6/30\n",
      "375/375 [==============================] - 12s 32ms/step - loss: 0.0589 - accuracy: 0.9814 - val_loss: 0.0417 - val_accuracy: 0.9883\n",
      "Epoch 7/30\n",
      "375/375 [==============================] - 12s 32ms/step - loss: 0.0532 - accuracy: 0.9840 - val_loss: 0.0432 - val_accuracy: 0.9865\n",
      "Epoch 8/30\n",
      "375/375 [==============================] - 12s 32ms/step - loss: 0.0491 - accuracy: 0.9846 - val_loss: 0.0391 - val_accuracy: 0.9887\n",
      "Epoch 9/30\n",
      "375/375 [==============================] - 12s 32ms/step - loss: 0.0448 - accuracy: 0.9859 - val_loss: 0.0367 - val_accuracy: 0.9891\n",
      "Epoch 10/30\n",
      "375/375 [==============================] - 12s 32ms/step - loss: 0.0426 - accuracy: 0.9865 - val_loss: 0.0374 - val_accuracy: 0.9893\n",
      "Epoch 11/30\n",
      "375/375 [==============================] - 12s 32ms/step - loss: 0.0407 - accuracy: 0.9870 - val_loss: 0.0375 - val_accuracy: 0.9892\n",
      "Epoch 12/30\n",
      "375/375 [==============================] - 12s 33ms/step - loss: 0.0398 - accuracy: 0.9872 - val_loss: 0.0332 - val_accuracy: 0.9901\n",
      "Epoch 13/30\n",
      "375/375 [==============================] - 12s 32ms/step - loss: 0.0376 - accuracy: 0.9879 - val_loss: 0.0309 - val_accuracy: 0.9915\n",
      "Epoch 14/30\n",
      "375/375 [==============================] - 12s 32ms/step - loss: 0.0361 - accuracy: 0.9885 - val_loss: 0.0355 - val_accuracy: 0.9901\n",
      "Epoch 15/30\n",
      "375/375 [==============================] - 12s 32ms/step - loss: 0.0336 - accuracy: 0.9889 - val_loss: 0.0334 - val_accuracy: 0.9908\n",
      "Epoch 16/30\n",
      "375/375 [==============================] - 12s 32ms/step - loss: 0.0332 - accuracy: 0.9889 - val_loss: 0.0306 - val_accuracy: 0.9917\n",
      "Epoch 17/30\n",
      "375/375 [==============================] - 12s 32ms/step - loss: 0.0291 - accuracy: 0.9902 - val_loss: 0.0321 - val_accuracy: 0.9916\n",
      "Epoch 18/30\n",
      "375/375 [==============================] - 12s 32ms/step - loss: 0.0315 - accuracy: 0.9896 - val_loss: 0.0315 - val_accuracy: 0.9906\n",
      "Epoch 19/30\n",
      "375/375 [==============================] - 12s 33ms/step - loss: 0.0289 - accuracy: 0.9907 - val_loss: 0.0331 - val_accuracy: 0.9908\n",
      "Epoch 20/30\n",
      "375/375 [==============================] - 12s 32ms/step - loss: 0.0275 - accuracy: 0.9909 - val_loss: 0.0312 - val_accuracy: 0.9915\n",
      "Epoch 21/30\n",
      "375/375 [==============================] - 12s 32ms/step - loss: 0.0266 - accuracy: 0.9907 - val_loss: 0.0328 - val_accuracy: 0.9912\n",
      "Epoch 22/30\n",
      "375/375 [==============================] - 12s 32ms/step - loss: 0.0269 - accuracy: 0.9909 - val_loss: 0.0316 - val_accuracy: 0.9917\n",
      "Epoch 23/30\n",
      "375/375 [==============================] - 12s 32ms/step - loss: 0.0247 - accuracy: 0.9915 - val_loss: 0.0326 - val_accuracy: 0.9919\n",
      "Epoch 24/30\n",
      "375/375 [==============================] - 12s 33ms/step - loss: 0.0248 - accuracy: 0.9916 - val_loss: 0.0332 - val_accuracy: 0.9909\n",
      "Epoch 25/30\n",
      "375/375 [==============================] - 12s 33ms/step - loss: 0.0238 - accuracy: 0.9921 - val_loss: 0.0317 - val_accuracy: 0.9912\n",
      "Epoch 26/30\n",
      "375/375 [==============================] - 12s 32ms/step - loss: 0.0239 - accuracy: 0.9923 - val_loss: 0.0314 - val_accuracy: 0.9923\n",
      "Epoch 27/30\n",
      "375/375 [==============================] - 12s 32ms/step - loss: 0.0222 - accuracy: 0.9921 - val_loss: 0.0306 - val_accuracy: 0.9921\n",
      "Epoch 28/30\n",
      "375/375 [==============================] - 13s 36ms/step - loss: 0.0222 - accuracy: 0.9924 - val_loss: 0.0337 - val_accuracy: 0.9908\n",
      "Epoch 29/30\n",
      "375/375 [==============================] - 12s 32ms/step - loss: 0.0216 - accuracy: 0.9923 - val_loss: 0.0305 - val_accuracy: 0.9924\n",
      "Epoch 30/30\n",
      "375/375 [==============================] - 12s 33ms/step - loss: 0.0218 - accuracy: 0.9925 - val_loss: 0.0324 - val_accuracy: 0.9921\n"
     ]
    },
    {
     "data": {
      "text/plain": [
       "<keras.src.callbacks.History at 0x2f2adbeb0>"
      ]
     },
     "execution_count": 53,
     "metadata": {},
     "output_type": "execute_result"
    }
   ],
   "source": [
    "model3.fit(X_train, y_train, batch_size=batch_size, epochs=epochs, validation_split=0.2)"
   ]
  },
  {
   "cell_type": "code",
   "execution_count": 54,
   "metadata": {
    "colab": {
     "base_uri": "https://localhost:8080/",
     "height": 421
    },
    "id": "e1h0aG0ZC7M1",
    "outputId": "b7a35ae6-2352-46ea-a6e6-d841a4372482"
   },
   "outputs": [
    {
     "name": "stdout",
     "output_type": "stream",
     "text": [
      "313/313 [==============================] - 1s 3ms/step\n"
     ]
    }
   ],
   "source": [
    "y_probab = model3.predict(X_test)\n",
    "y_pred = np.argmax(y_probab, axis=1)"
   ]
  },
  {
   "cell_type": "code",
   "execution_count": 55,
   "metadata": {},
   "outputs": [
    {
     "name": "stdout",
     "output_type": "stream",
     "text": [
      "              precision    recall  f1-score   support\n",
      "\n",
      "           0       0.99      1.00      0.99       980\n",
      "           1       1.00      0.99      0.99      1135\n",
      "           2       0.99      1.00      0.99      1032\n",
      "           3       0.99      0.99      0.99      1010\n",
      "           4       0.99      0.99      0.99       982\n",
      "           5       0.99      0.99      0.99       892\n",
      "           6       0.99      0.99      0.99       958\n",
      "           7       0.99      0.99      0.99      1028\n",
      "           8       0.99      0.99      0.99       974\n",
      "           9       0.99      0.99      0.99      1009\n",
      "\n",
      "    accuracy                           0.99     10000\n",
      "   macro avg       0.99      0.99      0.99     10000\n",
      "weighted avg       0.99      0.99      0.99     10000\n",
      "\n",
      "[[ 979    0    0    0    0    0    0    1    0    0]\n",
      " [   0 1126    3    3    1    0    2    0    0    0]\n",
      " [   1    0 1029    0    0    0    0    2    0    0]\n",
      " [   0    0    1 1004    0    3    0    1    1    0]\n",
      " [   0    0    0    0  976    0    1    0    0    5]\n",
      " [   0    0    0    5    0  884    1    1    0    1]\n",
      " [   5    2    1    0    1    2  944    0    3    0]\n",
      " [   0    1    7    1    0    0    0 1016    1    2]\n",
      " [   3    0    1    1    1    1    0    0  965    2]\n",
      " [   0    0    0    0    3    3    1    4    1  997]]\n"
     ]
    }
   ],
   "source": [
    "print(classification_report(y_test, y_pred))\n",
    "print(confusion_matrix(y_test, y_pred))"
   ]
  }
 ],
 "metadata": {
  "colab": {
   "collapsed_sections": [],
   "name": "9-pca.ipynb",
   "provenance": []
  },
  "kernelspec": {
   "display_name": "Python 3 (ipykernel)",
   "language": "python",
   "name": "python3"
  },
  "language_info": {
   "codemirror_mode": {
    "name": "ipython",
    "version": 3
   },
   "file_extension": ".py",
   "mimetype": "text/x-python",
   "name": "python",
   "nbconvert_exporter": "python",
   "pygments_lexer": "ipython3",
   "version": "3.9.12"
  }
 },
 "nbformat": 4,
 "nbformat_minor": 1
}
