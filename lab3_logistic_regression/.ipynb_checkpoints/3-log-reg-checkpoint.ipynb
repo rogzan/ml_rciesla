{
  "nbformat": 4,
  "nbformat_minor": 0,
  "metadata": {
    "colab": {
      "name": "3-log-reg.ipynb",
      "provenance": [],
      "collapsed_sections": []
    },
    "kernelspec": {
      "name": "python3",
      "display_name": "Python 3"
    },
    "language_info": {
      "name": "python"
    }
  },
  "cells": [
    {
      "cell_type": "code",
      "metadata": {
        "id": "FcAPIJYRVoTf"
      },
      "source": [
        "import numpy as np\n",
        "import pandas as pd\n",
        "import matplotlib.pyplot as plt\n",
        " \n",
        "import os\n",
        "path = os.getcwd() + '/ex2data1.txt'\n",
        "data = pd.read_csv(path, header=None, names=['Exam 1', 'Exam 2', 'Admitted'])"
      ],
      "execution_count": 117,
      "outputs": []
    },
    {
      "cell_type": "markdown",
      "metadata": {
        "id": "PzLlsNViWKFp"
      },
      "source": [
        "Ex 0"
      ]
    },
    {
      "cell_type": "code",
      "metadata": {
        "colab": {
          "base_uri": "https://localhost:8080/",
          "height": 204
        },
        "id": "7NOYkG_RWKzn",
        "outputId": "e6447d62-d79e-43bb-8202-05342739c7bf"
      },
      "source": [
        "data.head()"
      ],
      "execution_count": 118,
      "outputs": [
        {
          "output_type": "execute_result",
          "data": {
            "text/html": [
              "<div>\n",
              "<style scoped>\n",
              "    .dataframe tbody tr th:only-of-type {\n",
              "        vertical-align: middle;\n",
              "    }\n",
              "\n",
              "    .dataframe tbody tr th {\n",
              "        vertical-align: top;\n",
              "    }\n",
              "\n",
              "    .dataframe thead th {\n",
              "        text-align: right;\n",
              "    }\n",
              "</style>\n",
              "<table border=\"1\" class=\"dataframe\">\n",
              "  <thead>\n",
              "    <tr style=\"text-align: right;\">\n",
              "      <th></th>\n",
              "      <th>Exam 1</th>\n",
              "      <th>Exam 2</th>\n",
              "      <th>Admitted</th>\n",
              "    </tr>\n",
              "  </thead>\n",
              "  <tbody>\n",
              "    <tr>\n",
              "      <th>0</th>\n",
              "      <td>34.623660</td>\n",
              "      <td>78.024693</td>\n",
              "      <td>0</td>\n",
              "    </tr>\n",
              "    <tr>\n",
              "      <th>1</th>\n",
              "      <td>30.286711</td>\n",
              "      <td>43.894998</td>\n",
              "      <td>0</td>\n",
              "    </tr>\n",
              "    <tr>\n",
              "      <th>2</th>\n",
              "      <td>35.847409</td>\n",
              "      <td>72.902198</td>\n",
              "      <td>0</td>\n",
              "    </tr>\n",
              "    <tr>\n",
              "      <th>3</th>\n",
              "      <td>60.182599</td>\n",
              "      <td>86.308552</td>\n",
              "      <td>1</td>\n",
              "    </tr>\n",
              "    <tr>\n",
              "      <th>4</th>\n",
              "      <td>79.032736</td>\n",
              "      <td>75.344376</td>\n",
              "      <td>1</td>\n",
              "    </tr>\n",
              "  </tbody>\n",
              "</table>\n",
              "</div>"
            ],
            "text/plain": [
              "      Exam 1     Exam 2  Admitted\n",
              "0  34.623660  78.024693         0\n",
              "1  30.286711  43.894998         0\n",
              "2  35.847409  72.902198         0\n",
              "3  60.182599  86.308552         1\n",
              "4  79.032736  75.344376         1"
            ]
          },
          "metadata": {},
          "execution_count": 118
        }
      ]
    },
    {
      "cell_type": "code",
      "metadata": {
        "colab": {
          "base_uri": "https://localhost:8080/",
          "height": 297
        },
        "id": "UTUlKMflWOjo",
        "outputId": "bda68ec0-c4a6-4361-c11c-8d0f15d788bc"
      },
      "source": [
        "data.describe()"
      ],
      "execution_count": 119,
      "outputs": [
        {
          "output_type": "execute_result",
          "data": {
            "text/html": [
              "<div>\n",
              "<style scoped>\n",
              "    .dataframe tbody tr th:only-of-type {\n",
              "        vertical-align: middle;\n",
              "    }\n",
              "\n",
              "    .dataframe tbody tr th {\n",
              "        vertical-align: top;\n",
              "    }\n",
              "\n",
              "    .dataframe thead th {\n",
              "        text-align: right;\n",
              "    }\n",
              "</style>\n",
              "<table border=\"1\" class=\"dataframe\">\n",
              "  <thead>\n",
              "    <tr style=\"text-align: right;\">\n",
              "      <th></th>\n",
              "      <th>Exam 1</th>\n",
              "      <th>Exam 2</th>\n",
              "      <th>Admitted</th>\n",
              "    </tr>\n",
              "  </thead>\n",
              "  <tbody>\n",
              "    <tr>\n",
              "      <th>count</th>\n",
              "      <td>100.000000</td>\n",
              "      <td>100.000000</td>\n",
              "      <td>100.000000</td>\n",
              "    </tr>\n",
              "    <tr>\n",
              "      <th>mean</th>\n",
              "      <td>65.644274</td>\n",
              "      <td>66.221998</td>\n",
              "      <td>0.600000</td>\n",
              "    </tr>\n",
              "    <tr>\n",
              "      <th>std</th>\n",
              "      <td>19.458222</td>\n",
              "      <td>18.582783</td>\n",
              "      <td>0.492366</td>\n",
              "    </tr>\n",
              "    <tr>\n",
              "      <th>min</th>\n",
              "      <td>30.058822</td>\n",
              "      <td>30.603263</td>\n",
              "      <td>0.000000</td>\n",
              "    </tr>\n",
              "    <tr>\n",
              "      <th>25%</th>\n",
              "      <td>50.919511</td>\n",
              "      <td>48.179205</td>\n",
              "      <td>0.000000</td>\n",
              "    </tr>\n",
              "    <tr>\n",
              "      <th>50%</th>\n",
              "      <td>67.032988</td>\n",
              "      <td>67.682381</td>\n",
              "      <td>1.000000</td>\n",
              "    </tr>\n",
              "    <tr>\n",
              "      <th>75%</th>\n",
              "      <td>80.212529</td>\n",
              "      <td>79.360605</td>\n",
              "      <td>1.000000</td>\n",
              "    </tr>\n",
              "    <tr>\n",
              "      <th>max</th>\n",
              "      <td>99.827858</td>\n",
              "      <td>98.869436</td>\n",
              "      <td>1.000000</td>\n",
              "    </tr>\n",
              "  </tbody>\n",
              "</table>\n",
              "</div>"
            ],
            "text/plain": [
              "           Exam 1      Exam 2    Admitted\n",
              "count  100.000000  100.000000  100.000000\n",
              "mean    65.644274   66.221998    0.600000\n",
              "std     19.458222   18.582783    0.492366\n",
              "min     30.058822   30.603263    0.000000\n",
              "25%     50.919511   48.179205    0.000000\n",
              "50%     67.032988   67.682381    1.000000\n",
              "75%     80.212529   79.360605    1.000000\n",
              "max     99.827858   98.869436    1.000000"
            ]
          },
          "metadata": {},
          "execution_count": 119
        }
      ]
    },
    {
      "cell_type": "code",
      "metadata": {
        "colab": {
          "base_uri": "https://localhost:8080/",
          "height": 265
        },
        "id": "N6AzzO80W1Sm",
        "outputId": "2c5091f0-c5cf-4c02-9afd-0019762b44f4"
      },
      "source": [
        "plt.scatter(data['Exam 1'], data['Admitted'], color='b')\n",
        "plt.scatter(data['Exam 2'], data['Admitted'], color='r')\n",
        "plt.show()"
      ],
      "execution_count": 120,
      "outputs": [
        {
          "output_type": "display_data",
          "data": {
            "image/png": "[encoded data removed]",
            "text/plain": [
              "<Figure size 432x288 with 1 Axes>"
            ]
          },
          "metadata": {
            "needs_background": "light"
          }
        }
      ]
    },
    {
      "cell_type": "code",
      "metadata": {
        "id": "6aAAqKq8T6AH"
      },
      "source": [
        "# needed to normalize it this way, it didnt work otherwise\n",
        "exam1 = data[\"Exam 1\"]\n",
        "exam2 = data[\"Exam 2\"]\n",
        "data[\"Exam 1\"] = [(i - exam1.mean())/exam1.std() for i in exam1]\n",
        "data[\"Exam 2\"] = [(i - exam2.mean())/exam2.std() for i in exam2]"
      ],
      "execution_count": 121,
      "outputs": []
    },
    {
      "cell_type": "markdown",
      "metadata": {
        "id": "zXwZU55UWjQL"
      },
      "source": [
        "Ex 1\n",
        "- add a column with values '1'\n",
        "- divide the data into parameters (X) and labels/classes (y)\n",
        "- data conversion to numpy ( np.array )\n"
      ]
    },
    {
      "cell_type": "code",
      "metadata": {
        "id": "ggka9btJWu1V"
      },
      "source": [
        "data.insert(0, '1s', [1]*data.shape[0])\n",
        "X = data[[\"1s\", \"Exam 1\", \"Exam 2\"]]\n",
        "y = data[[\"Admitted\"]]\n",
        "X = np.array(X.values)\n",
        "y = np.array(y.values)"
      ],
      "execution_count": 122,
      "outputs": []
    },
    {
      "cell_type": "code",
      "metadata": {
        "colab": {
          "base_uri": "https://localhost:8080/"
        },
        "id": "mXdURHA1lPPY",
        "outputId": "9b25fb2b-85a5-4e72-a475-6d975527fb55"
      },
      "source": [
        "X.shape"
      ],
      "execution_count": 123,
      "outputs": [
        {
          "output_type": "execute_result",
          "data": {
            "text/plain": [
              "(100, 3)"
            ]
          },
          "metadata": {},
          "execution_count": 123
        }
      ]
    },
    {
      "cell_type": "code",
      "metadata": {
        "colab": {
          "base_uri": "https://localhost:8080/"
        },
        "id": "Kqsqv9eclPzY",
        "outputId": "c5544b3a-3b28-48ec-9e64-b90e9570dacc"
      },
      "source": [
        "y.shape"
      ],
      "execution_count": 124,
      "outputs": [
        {
          "output_type": "execute_result",
          "data": {
            "text/plain": [
              "(100, 1)"
            ]
          },
          "metadata": {},
          "execution_count": 124
        }
      ]
    },
    {
      "cell_type": "markdown",
      "metadata": {
        "id": "1RDbpf-tX5GU"
      },
      "source": [
        "Sigmoid"
      ]
    },
    {
      "cell_type": "code",
      "metadata": {
        "id": "WRjUKL1wX1ut"
      },
      "source": [
        "def sig(t):\n",
        "  return 1.0 / (1.0 + np.exp(-t))"
      ],
      "execution_count": 125,
      "outputs": []
    },
    {
      "cell_type": "code",
      "metadata": {
        "colab": {
          "base_uri": "https://localhost:8080/",
          "height": 282
        },
        "id": "a2HctSrJYKmt",
        "outputId": "68c04a00-f0f1-4865-e03b-897076d86c44"
      },
      "source": [
        "xx = np.arange(-5,5 + .5, step=0.5)\n",
        "plt.grid()\n",
        "plt.plot(xx, sig(xx))"
      ],
      "execution_count": 126,
      "outputs": [
        {
          "output_type": "execute_result",
          "data": {
            "text/plain": [
              "[<matplotlib.lines.Line2D at 0x7fc85509f7d0>]"
            ]
          },
          "metadata": {},
          "execution_count": 126
        },
        {
          "output_type": "display_data",
          "data": {
            "image/png": "[encoded data removed]",
            "text/plain": [
              "<Figure size 432x288 with 1 Axes>"
            ]
          },
          "metadata": {
            "needs_background": "light"
          }
        }
      ]
    },
    {
      "cell_type": "markdown",
      "metadata": {
        "id": "2wfu2U7fyxC4"
      },
      "source": [
        "Ex 5. Cost"
      ]
    },
    {
      "cell_type": "code",
      "metadata": {
        "id": "xWVDow1SZHgT"
      },
      "source": [
        "def cost(Theta, X, y):\n",
        "  m = X.shape[0]\n",
        "  h = sig(X @ Theta)\n",
        "  return 1/m * ((-y.T) @ (np.log(h)) - (((1 - y).T) @ np.log(1 - h)))"
      ],
      "execution_count": 127,
      "outputs": []
    },
    {
      "cell_type": "code",
      "metadata": {
        "colab": {
          "base_uri": "https://localhost:8080/"
        },
        "id": "Vy0xyi5obPlu",
        "outputId": "ed62499d-0436-46c5-c841-a9628a785d2e"
      },
      "source": [
        "theta = np.zeros(3)\n",
        "cost(theta, X, y)\n"
      ],
      "execution_count": 128,
      "outputs": [
        {
          "output_type": "execute_result",
          "data": {
            "text/plain": [
              "array([0.69314718])"
            ]
          },
          "metadata": {},
          "execution_count": 128
        }
      ]
    },
    {
      "cell_type": "markdown",
      "metadata": {
        "id": "d9U3Z6Atd92R"
      },
      "source": [
        "Gradient"
      ]
    },
    {
      "cell_type": "code",
      "metadata": {
        "id": "I0PhOvbcdv7o"
      },
      "source": [
        "def simple_gradient(X, y, theta, alpha, it):\n",
        "    # it - number of iterations\n",
        "    m = X.shape[0]\n",
        "    cost_history = np.zeros(it)\n",
        "    \n",
        "    for i in range(it):\n",
        "        h = sig(X @ theta)\n",
        "        for k in range(3):\n",
        "         theta[k] = theta[k] - alpha/m * np.sum((np.subtract(h.T,y).T) @ (np.matrix(X[:,k]).T))\n",
        "        # theta = theta - (1/m) * alpha * np.transpose(X) * (h - y)\n",
        "        # theta = theta - (alpha/m) * (X.T @ (h - y)) \n",
        "        cost_history[i] = cost(theta, X, y)\n",
        "\n",
        "    return theta, cost_history\n",
        "\n",
        "def simple_gradient2(X, y, theta, alpha, it):\n",
        "    cost_history = np.zeros(it)\n",
        "    am = alpha/X.shape[0] # alpha / m\n",
        "\n",
        "    for i in range(it):\n",
        "        h = np.matrix(sig(X @ theta))\n",
        "        for k in range(3):\n",
        "          X_k = np.matrix(X[:,k]).T\n",
        "          theta[k] = theta[k] - am * np.sum(((h.T - y).T) @ X_k)\n",
        "        cost_history[i] = cost(theta,X,y)  \n",
        " \n",
        "    return theta, cost_history"
      ],
      "execution_count": 129,
      "outputs": []
    },
    {
      "cell_type": "markdown",
      "metadata": {
        "id": "k_LpQnYXn3mk"
      },
      "source": [
        "."
      ]
    },
    {
      "cell_type": "code",
      "metadata": {
        "colab": {
          "base_uri": "https://localhost:8080/"
        },
        "id": "stFLqRVje7Gs",
        "outputId": "279547a6-bc9a-4aaf-bea1-901b35fe56b7"
      },
      "source": [
        "alpha = 1\n",
        "it = 150\n",
        "theta, costs = simple_gradient2(X, y, np.zeros(3), alpha, it)\n",
        "theta, costs[-1]"
      ],
      "execution_count": 130,
      "outputs": [
        {
          "output_type": "execute_result",
          "data": {
            "text/plain": [
              "(array([1.41682812, 3.36988187, 3.122184  ]), 0.20647054423182595)"
            ]
          },
          "metadata": {},
          "execution_count": 130
        }
      ]
    },
    {
      "cell_type": "code",
      "metadata": {
        "id": "jJ8nYpb5Vff_"
      },
      "source": [
        "p = sig(X.dot(theta)) >= 0.5\n",
        "p = p.astype(int)"
      ],
      "execution_count": 131,
      "outputs": []
    },
    {
      "cell_type": "code",
      "metadata": {
        "colab": {
          "base_uri": "https://localhost:8080/",
          "height": 419
        },
        "id": "RRsVCtPuVrsZ",
        "outputId": "9a2f2d90-339a-4af4-dcb3-c6cf29380cd9"
      },
      "source": [
        "admission = data[[\"Admitted\"]]\n",
        "admission.insert(loc=1, column='Prediction', value=p.astype(int))\n",
        "admission"
      ],
      "execution_count": 132,
      "outputs": [
        {
          "output_type": "execute_result",
          "data": {
            "text/html": [
              "<div>\n",
              "<style scoped>\n",
              "    .dataframe tbody tr th:only-of-type {\n",
              "        vertical-align: middle;\n",
              "    }\n",
              "\n",
              "    .dataframe tbody tr th {\n",
              "        vertical-align: top;\n",
              "    }\n",
              "\n",
              "    .dataframe thead th {\n",
              "        text-align: right;\n",
              "    }\n",
              "</style>\n",
              "<table border=\"1\" class=\"dataframe\">\n",
              "  <thead>\n",
              "    <tr style=\"text-align: right;\">\n",
              "      <th></th>\n",
              "      <th>Admitted</th>\n",
              "      <th>Prediction</th>\n",
              "    </tr>\n",
              "  </thead>\n",
              "  <tbody>\n",
              "    <tr>\n",
              "      <th>0</th>\n",
              "      <td>0</td>\n",
              "      <td>0</td>\n",
              "    </tr>\n",
              "    <tr>\n",
              "      <th>1</th>\n",
              "      <td>0</td>\n",
              "      <td>0</td>\n",
              "    </tr>\n",
              "    <tr>\n",
              "      <th>2</th>\n",
              "      <td>0</td>\n",
              "      <td>0</td>\n",
              "    </tr>\n",
              "    <tr>\n",
              "      <th>3</th>\n",
              "      <td>1</td>\n",
              "      <td>1</td>\n",
              "    </tr>\n",
              "    <tr>\n",
              "      <th>4</th>\n",
              "      <td>1</td>\n",
              "      <td>1</td>\n",
              "    </tr>\n",
              "    <tr>\n",
              "      <th>...</th>\n",
              "      <td>...</td>\n",
              "      <td>...</td>\n",
              "    </tr>\n",
              "    <tr>\n",
              "      <th>95</th>\n",
              "      <td>1</td>\n",
              "      <td>1</td>\n",
              "    </tr>\n",
              "    <tr>\n",
              "      <th>96</th>\n",
              "      <td>1</td>\n",
              "      <td>1</td>\n",
              "    </tr>\n",
              "    <tr>\n",
              "      <th>97</th>\n",
              "      <td>1</td>\n",
              "      <td>1</td>\n",
              "    </tr>\n",
              "    <tr>\n",
              "      <th>98</th>\n",
              "      <td>1</td>\n",
              "      <td>0</td>\n",
              "    </tr>\n",
              "    <tr>\n",
              "      <th>99</th>\n",
              "      <td>1</td>\n",
              "      <td>1</td>\n",
              "    </tr>\n",
              "  </tbody>\n",
              "</table>\n",
              "<p>100 rows × 2 columns</p>\n",
              "</div>"
            ],
            "text/plain": [
              "    Admitted  Prediction\n",
              "0          0           0\n",
              "1          0           0\n",
              "2          0           0\n",
              "3          1           1\n",
              "4          1           1\n",
              "..       ...         ...\n",
              "95         1           1\n",
              "96         1           1\n",
              "97         1           1\n",
              "98         1           0\n",
              "99         1           1\n",
              "\n",
              "[100 rows x 2 columns]"
            ]
          },
          "metadata": {},
          "execution_count": 132
        }
      ]
    },
    {
      "cell_type": "code",
      "metadata": {
        "colab": {
          "base_uri": "https://localhost:8080/"
        },
        "id": "d9z7aAewWDv2",
        "outputId": "775dc512-eb14-4c4f-e64c-714de6c23e91"
      },
      "source": [
        "accuracy = len(admission[(admission['Admitted'] == admission['Prediction'])])/len(admission)\n",
        "accuracy"
      ],
      "execution_count": 133,
      "outputs": [
        {
          "output_type": "execute_result",
          "data": {
            "text/plain": [
              "0.89"
            ]
          },
          "metadata": {},
          "execution_count": 133
        }
      ]
    },
    {
      "cell_type": "markdown",
      "metadata": {
        "id": "VivhBILMmiRD"
      },
      "source": [
        "# Logistic regression - Python"
      ]
    },
    {
      "cell_type": "code",
      "metadata": {
        "id": "WFjF9J-omk2y"
      },
      "source": [
        "import numpy as np\n",
        "import matplotlib.pyplot as plt\n",
        "from sklearn.linear_model import LogisticRegression\n",
        "from sklearn import datasets\n",
        "from sklearn.metrics import mean_squared_error, accuracy_score\n",
        " \n",
        "iris = datasets.load_iris()\n",
        "X = iris.data[:, :2]  # we are analyzing only 2 parameters\n",
        "Y = iris.target"
      ],
      "execution_count": 142,
      "outputs": []
    },
    {
      "cell_type": "code",
      "metadata": {
        "colab": {
          "base_uri": "https://localhost:8080/"
        },
        "id": "b2hxCZ4mmoUA",
        "outputId": "2e7c20d6-e68b-4778-dff2-3afac83f2d18"
      },
      "source": [
        "logreg = LogisticRegression()\n",
        "logreg.fit(X, Y)"
      ],
      "execution_count": 135,
      "outputs": [
        {
          "output_type": "execute_result",
          "data": {
            "text/plain": [
              "LogisticRegression(C=1.0, class_weight=None, dual=False, fit_intercept=True,\n",
              "                   intercept_scaling=1, l1_ratio=None, max_iter=100,\n",
              "                   multi_class='auto', n_jobs=None, penalty='l2',\n",
              "                   random_state=None, solver='lbfgs', tol=0.0001, verbose=0,\n",
              "                   warm_start=False)"
            ]
          },
          "metadata": {},
          "execution_count": 135
        }
      ]
    },
    {
      "cell_type": "code",
      "metadata": {
        "colab": {
          "base_uri": "https://localhost:8080/",
          "height": 208
        },
        "id": "XjnOSx8TmuhY",
        "outputId": "4ab73b66-8d9b-49d6-8e0d-646d780694c8"
      },
      "source": [
        "# Plot the decision boundary. For that, we will assign a color to each\n",
        "# point in the mesh [x_min, x_max]x[y_min, y_max].\n",
        "x_min, x_max = X[:, 0].min() - .5, X[:, 0].max() + .5\n",
        "y_min, y_max = X[:, 1].min() - .5, X[:, 1].max() + .5\n",
        "h = .02  # step size in the mesh\n",
        "xx, yy = np.meshgrid(np.arange(x_min, x_max, h), np.arange(y_min, y_max, h))\n",
        "Z = logreg.predict(np.c_[xx.ravel(), yy.ravel()])\n",
        "Z2 = logreg.predict(X)\n",
        " \n",
        "# Put the result into a color plot\n",
        "Z = Z.reshape(xx.shape)\n",
        "plt.figure(1, figsize=(4, 3))\n",
        "plt.pcolormesh(xx, yy, Z, cmap=plt.cm.Paired)\n",
        " \n",
        "# Plot also the training points\n",
        "plt.scatter(X[:, 0], X[:, 1], c=Y, edgecolors='k', cmap=plt.cm.Paired)\n",
        "plt.xlabel('Sepal length')\n",
        "plt.ylabel('Sepal width')\n",
        " \n",
        "plt.xlim(xx.min(), xx.max())\n",
        "plt.ylim(yy.min(), yy.max())\n",
        "plt.xticks(())\n",
        "plt.yticks(())\n",
        " \n",
        "plt.show()"
      ],
      "execution_count": 136,
      "outputs": [
        {
          "output_type": "display_data",
          "data": {
            "image/png": "[encoded data removed]",
            "text/plain": [
              "<Figure size 288x216 with 1 Axes>"
            ]
          },
          "metadata": {}
        }
      ]
    },
    {
      "cell_type": "code",
      "metadata": {
        "colab": {
          "base_uri": "https://localhost:8080/",
          "height": 439
        },
        "id": "MyDb1v1bnZ4w",
        "outputId": "0c6fc9ec-a126-4ba1-d07d-95462cb777f0"
      },
      "source": [
        "plt.hist(logreg.predict_proba(X), density=True)"
      ],
      "execution_count": 137,
      "outputs": [
        {
          "output_type": "execute_result",
          "data": {
            "text/plain": [
              "(array([[5.72028789, 0.47108253, 0.33648752, 0.20189251, 0.        ,\n",
              "         0.0672975 , 0.        , 0.40378503, 0.67297505, 2.22081765],\n",
              "        [2.62460268, 1.34595009, 0.94216506, 1.14405758, 0.74027255,\n",
              "         1.4132476 , 1.07676007, 0.67297505, 0.13459501, 0.        ],\n",
              "        [3.56676775, 0.60567754, 1.00946257, 0.74027255, 0.94216506,\n",
              "         0.87486756, 0.74027255, 0.74027255, 0.53838004, 0.33648752]]),\n",
              " array([1.05436640e-05, 9.90731568e-02, 1.98135770e-01, 2.97198383e-01,\n",
              "        3.96260996e-01, 4.95323609e-01, 5.94386223e-01, 6.93448836e-01,\n",
              "        7.92511449e-01, 8.91574062e-01, 9.90636675e-01]),\n",
              " <a list of 3 Lists of Patches objects>)"
            ]
          },
          "metadata": {},
          "execution_count": 137
        },
        {
          "output_type": "display_data",
          "data": {
            "image/png": "[encoded data removed]",
            "text/plain": [
              "<Figure size 432x288 with 1 Axes>"
            ]
          },
          "metadata": {
            "needs_background": "light"
          }
        }
      ]
    },
    {
      "cell_type": "code",
      "metadata": {
        "colab": {
          "base_uri": "https://localhost:8080/"
        },
        "id": "oiXA3Gc_oaib",
        "outputId": "3cb9ad48-c7fe-4045-e7ce-a35816bd5317"
      },
      "source": [
        "logreg.score(X, Y)"
      ],
      "execution_count": 138,
      "outputs": [
        {
          "output_type": "execute_result",
          "data": {
            "text/plain": [
              "0.82"
            ]
          },
          "metadata": {},
          "execution_count": 138
        }
      ]
    },
    {
      "cell_type": "code",
      "metadata": {
        "colab": {
          "base_uri": "https://localhost:8080/"
        },
        "id": "rmMAjymmSN2L",
        "outputId": "80bc2e2e-2ea4-40ce-d1a9-f586bf3a0d59"
      },
      "source": [
        "mean_squared_error(Y, Z2)\n"
      ],
      "execution_count": 143,
      "outputs": [
        {
          "output_type": "execute_result",
          "data": {
            "text/plain": [
              "0.18"
            ]
          },
          "metadata": {},
          "execution_count": 143
        }
      ]
    },
    {
      "cell_type": "code",
      "metadata": {
        "colab": {
          "base_uri": "https://localhost:8080/"
        },
        "id": "N4cI9elVSbBT",
        "outputId": "a0c29dc9-8897-4bb0-9f47-76e26d3f1f75"
      },
      "source": [
        "accuracy_score(Y, Z2)"
      ],
      "execution_count": 140,
      "outputs": [
        {
          "output_type": "execute_result",
          "data": {
            "text/plain": [
              "0.82"
            ]
          },
          "metadata": {},
          "execution_count": 140
        }
      ]
    }
  ]
}